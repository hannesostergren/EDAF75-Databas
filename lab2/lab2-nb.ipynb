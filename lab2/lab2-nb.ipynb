{
 "cells": [
  {
   "cell_type": "markdown",
   "id": "0277f949",
   "metadata": {},
   "source": [
    "<!-- -*- mode: markdown; coding: utf-8; fill-column: 60; ispell-dictionary: \"english\" -*- -->\n",
    "\n",
    "<meta charset=\"utf-8\"/>\n",
    "<meta name=\"viewport\" content=\"width=device-width,initial-scale=1\"/>\n",
    "<link rel=\"stylesheet\" href=\"style.css\">\n",
    "\n",
    "\n",
    "# EDAF75 - lab 2: Testing the database\n",
    "\n",
    "As usual we have to tell Jupyter to allow SQL:"
   ]
  },
  {
   "cell_type": "code",
   "execution_count": 36,
   "id": "d68f2f65",
   "metadata": {},
   "outputs": [
    {
     "name": "stdout",
     "output_type": "stream",
     "text": [
      "The sql extension is already loaded. To reload it, use:\n",
      "  %reload_ext sql\n"
     ]
    }
   ],
   "source": [
    "%load_ext sql"
   ]
  },
  {
   "cell_type": "markdown",
   "id": "a473a71b",
   "metadata": {},
   "source": [
    "And then we import our movie database"
   ]
  },
  {
   "cell_type": "code",
   "execution_count": 37,
   "id": "062773cc",
   "metadata": {},
   "outputs": [],
   "source": [
    "%sql sqlite:///movies.sqlite"
   ]
  },
  {
   "cell_type": "markdown",
   "id": "7fb8548e",
   "metadata": {},
   "source": [
    "We want to make sure that SQLite3 really checks our foreign\n",
    "key constraints -- to do that, we run:"
   ]
  },
  {
   "cell_type": "code",
   "execution_count": 38,
   "id": "7418d3c9",
   "metadata": {},
   "outputs": [
    {
     "name": "stdout",
     "output_type": "stream",
     "text": [
      " * sqlite:///movies.sqlite\n",
      "Done.\n"
     ]
    },
    {
     "data": {
      "text/plain": [
       "[]"
      ]
     },
     "execution_count": 38,
     "metadata": {},
     "output_type": "execute_result"
    }
   ],
   "source": [
    "%%sql\n",
    "PRAGMA foreign_keys=ON;"
   ]
  },
  {
   "cell_type": "markdown",
   "id": "f36c5cf4",
   "metadata": {},
   "source": [
    "## SQL statements to review at the lab session\n",
    "\n",
    "Write SQL code for the following tasks:\n",
    "\n",
    "+ Show the names of all movies."
   ]
  },
  {
   "cell_type": "code",
   "execution_count": 39,
   "id": "a0497dca",
   "metadata": {},
   "outputs": [
    {
     "name": "stdout",
     "output_type": "stream",
     "text": [
      " * sqlite:///movies.sqlite\n",
      "Done.\n"
     ]
    },
    {
     "data": {
      "text/html": [
       "<table>\n",
       "    <tr>\n",
       "        <th>Title</th>\n",
       "        <th>Production_year</th>\n",
       "        <th>IMDB_key</th>\n",
       "        <th>Running_time</th>\n",
       "    </tr>\n",
       "    <tr>\n",
       "        <td>The House That Jack Built</td>\n",
       "        <td>2018</td>\n",
       "        <td>tt4003440</td>\n",
       "        <td>02:32:00</td>\n",
       "    </tr>\n",
       "    <tr>\n",
       "        <td>Melancholia</td>\n",
       "        <td>2011</td>\n",
       "        <td>tt1527186</td>\n",
       "        <td>02:15:00</td>\n",
       "    </tr>\n",
       "    <tr>\n",
       "        <td>Antichrist</td>\n",
       "        <td>2009</td>\n",
       "        <td>tt0870984</td>\n",
       "        <td>01:48:00</td>\n",
       "    </tr>\n",
       "    <tr>\n",
       "        <td>Dogville</td>\n",
       "        <td>2003</td>\n",
       "        <td>tt0276919</td>\n",
       "        <td>02:58:00</td>\n",
       "    </tr>\n",
       "</table>"
      ],
      "text/plain": [
       "[('The House That Jack Built', 2018, 'tt4003440', '02:32:00'),\n",
       " ('Melancholia', 2011, 'tt1527186', '02:15:00'),\n",
       " ('Antichrist', 2009, 'tt0870984', '01:48:00'),\n",
       " ('Dogville', 2003, 'tt0276919', '02:58:00')]"
      ]
     },
     "execution_count": 39,
     "metadata": {},
     "output_type": "execute_result"
    }
   ],
   "source": [
    "%%sql\n",
    "SELECT * FROM Movie"
   ]
  },
  {
   "cell_type": "markdown",
   "id": "05b2d0c4",
   "metadata": {},
   "source": [
    "+ Show the performance dates for one of the movies."
   ]
  },
  {
   "cell_type": "code",
   "execution_count": 62,
   "id": "ae3a3b9e",
   "metadata": {},
   "outputs": [
    {
     "name": "stdout",
     "output_type": "stream",
     "text": [
      " * sqlite:///movies.sqlite\n",
      "Done.\n"
     ]
    },
    {
     "data": {
      "text/html": [
       "<table>\n",
       "    <tr>\n",
       "        <th>IMDB_key</th>\n",
       "        <th>Screening_ID</th>\n",
       "        <th>Theater_name</th>\n",
       "        <th>Start_time</th>\n",
       "        <th>Seats</th>\n",
       "    </tr>\n",
       "    <tr>\n",
       "        <td>tt0870984</td>\n",
       "        <td>1</td>\n",
       "        <td>Kino der Toten</td>\n",
       "        <td>2023-02-14 19:00:00</td>\n",
       "        <td>100</td>\n",
       "    </tr>\n",
       "</table>"
      ],
      "text/plain": [
       "[('tt0870984', '1', 'Kino der Toten', '2023-02-14 19:00:00', 100)]"
      ]
     },
     "execution_count": 62,
     "metadata": {},
     "output_type": "execute_result"
    }
   ],
   "source": [
    "%%sql\n",
    "SELECT * FROM Screening"
   ]
  },
  {
   "cell_type": "markdown",
   "id": "aacdcb5d",
   "metadata": {},
   "source": [
    "+ Show all data concerning performances at a given theatere\n",
    "  on a given date."
   ]
  },
  {
   "cell_type": "code",
   "execution_count": 63,
   "id": "b3d76fbf",
   "metadata": {},
   "outputs": [
    {
     "name": "stdout",
     "output_type": "stream",
     "text": [
      " * sqlite:///movies.sqlite\n",
      "Done.\n"
     ]
    },
    {
     "data": {
      "text/html": [
       "<table>\n",
       "    <tr>\n",
       "        <th>IMDB_key</th>\n",
       "        <th>Screening_ID</th>\n",
       "        <th>Theater_name</th>\n",
       "        <th>Start_time</th>\n",
       "        <th>Seats</th>\n",
       "    </tr>\n",
       "    <tr>\n",
       "        <td>tt0870984</td>\n",
       "        <td>1</td>\n",
       "        <td>Kino der Toten</td>\n",
       "        <td>2023-02-14 19:00:00</td>\n",
       "        <td>100</td>\n",
       "    </tr>\n",
       "</table>"
      ],
      "text/plain": [
       "[('tt0870984', '1', 'Kino der Toten', '2023-02-14 19:00:00', 100)]"
      ]
     },
     "execution_count": 63,
     "metadata": {},
     "output_type": "execute_result"
    }
   ],
   "source": [
    "%%sql\n",
    "SELECT * FROM Screening\n",
    "WHERE Start_time LIKE '2023-02-14%'"
   ]
  },
  {
   "cell_type": "markdown",
   "id": "397c005e",
   "metadata": {},
   "source": [
    "+ List all customers"
   ]
  },
  {
   "cell_type": "code",
   "execution_count": 64,
   "id": "f1abab71",
   "metadata": {},
   "outputs": [
    {
     "name": "stdout",
     "output_type": "stream",
     "text": [
      " * sqlite:///movies.sqlite\n",
      "Done.\n"
     ]
    },
    {
     "data": {
      "text/html": [
       "<table>\n",
       "    <tr>\n",
       "        <th>User_name</th>\n",
       "        <th>Full_name</th>\n",
       "        <th>Password</th>\n",
       "    </tr>\n",
       "    <tr>\n",
       "        <td>hannus</td>\n",
       "        <td>Hannes Östergren</td>\n",
       "        <td>password</td>\n",
       "    </tr>\n",
       "    <tr>\n",
       "        <td>anotherUser</td>\n",
       "        <td>John Doe</td>\n",
       "        <td>seven</td>\n",
       "    </tr>\n",
       "</table>"
      ],
      "text/plain": [
       "[('hannus', 'Hannes Östergren', 'password'),\n",
       " ('anotherUser', 'John Doe', 'seven')]"
      ]
     },
     "execution_count": 64,
     "metadata": {},
     "output_type": "execute_result"
    }
   ],
   "source": [
    "%%sql\n",
    "SELECT * FROM User"
   ]
  },
  {
   "cell_type": "markdown",
   "id": "1587f3bc",
   "metadata": {},
   "source": [
    "+ List all tickets"
   ]
  },
  {
   "cell_type": "code",
   "execution_count": 65,
   "id": "f888e4fc",
   "metadata": {},
   "outputs": [
    {
     "name": "stdout",
     "output_type": "stream",
     "text": [
      " * sqlite:///movies.sqlite\n",
      "Done.\n"
     ]
    },
    {
     "data": {
      "text/html": [
       "<table>\n",
       "    <tr>\n",
       "        <th>User_name</th>\n",
       "        <th>Screening_ID</th>\n",
       "        <th>Ticket_ID</th>\n",
       "    </tr>\n",
       "    <tr>\n",
       "        <td>hannus</td>\n",
       "        <td>1</td>\n",
       "        <td>80bc8e288113f5f8ad96a74777f32ece</td>\n",
       "    </tr>\n",
       "</table>"
      ],
      "text/plain": [
       "[('hannus', '1', '80bc8e288113f5f8ad96a74777f32ece')]"
      ]
     },
     "execution_count": 65,
     "metadata": {},
     "output_type": "execute_result"
    }
   ],
   "source": [
    "%%sql\n",
    "\n",
    "SELECT * FROM Ticket"
   ]
  },
  {
   "cell_type": "markdown",
   "id": "ca83d079",
   "metadata": {},
   "source": [
    "## Things to try out yourselves (not reviewed at the lab session)\n",
    "\n",
    "During lab 3 you'll write a REST service for the database\n",
    "you just created, and for the server to work properly, the\n",
    "things below should work.\n",
    "\n",
    "If you have any questions about the material below, feel\n",
    "free to ask them at the QA sessions (see Moodle for how to\n",
    "sign up for them).\n",
    "\n",
    "\n",
    "+ Create a new ticket to some performance (i.e., insert a\n",
    "  new row in your table of tickets)."
   ]
  },
  {
   "cell_type": "code",
   "execution_count": 66,
   "id": "dd368375",
   "metadata": {},
   "outputs": [
    {
     "name": "stdout",
     "output_type": "stream",
     "text": [
      " * sqlite:///movies.sqlite\n",
      "1 rows affected.\n"
     ]
    },
    {
     "data": {
      "text/plain": [
       "[]"
      ]
     },
     "execution_count": 66,
     "metadata": {},
     "output_type": "execute_result"
    }
   ],
   "source": [
    "%%sql\n",
    "INSERT INTO Ticket(User_name, Screening_ID)\n",
    "VALUES ('anotherUser', '1')"
   ]
  },
  {
   "cell_type": "markdown",
   "id": "2dfddda0",
   "metadata": {},
   "source": [
    "In newer versions of SQLite (since version 3.35, released\n",
    "  in March 2021), and in\n",
    "  [PostgreSQL](https://www.postgresql.org/docs/current/sql-insert.html),\n",
    "  we can get any value generated during an insert using the\n",
    "  `INSERT...-RETURNING` statement:"
   ]
  },
  {
   "cell_type": "markdown",
   "id": "9f0f5b7b",
   "metadata": {},
   "source": [
    "~~~{.sql}\n",
    "INSERT\n",
    "INTO       students\n",
    "VALUES     ('Amy', 3.9, 1200)\n",
    "RETURNING  s_id\n",
    "~~~\n"
   ]
  },
  {
   "cell_type": "markdown",
   "id": "2b3ce6e8",
   "metadata": {},
   "source": [
    "which would return the generated `s_id` for the new\n",
    "  student.\n",
    "\n",
    "  If your SQLite version is older than 3.35, and you can't\n",
    "  upgrade, you can instead use the following idea: each row\n",
    "  in a SQLite3 table has a `rowid` attribute, it is a unique\n",
    "  integer which essentially tells in which order the rows\n",
    "  were inserted, and it's not displayed in queries unless we\n",
    "  ask for it. SQLite3 also have a function,\n",
    "  `last_insert_rowid()`, which returns the `rowid` of the\n",
    "  last inserted row of a table, so we can see the `s_id` of\n",
    "  the most recently inserted student with the following\n",
    "  query:"
   ]
  },
  {
   "cell_type": "markdown",
   "id": "562a51bf",
   "metadata": {},
   "source": [
    "~~~{.sql}\n",
    "SELECT s_id\n",
    "FROM   students\n",
    "WHERE  rowid = last_insert_rowid();\n",
    "~~~\n"
   ]
  },
  {
   "cell_type": "markdown",
   "id": "c6c80ea5",
   "metadata": {},
   "source": [
    "Now, check what ticket number we got for the ticket we\n",
    "  created above (it should be the same as the ticket id,\n",
    "  which should be a `randomblob`):"
   ]
  },
  {
   "cell_type": "code",
   "execution_count": 67,
   "id": "02c41d21",
   "metadata": {},
   "outputs": [
    {
     "name": "stdout",
     "output_type": "stream",
     "text": [
      " * sqlite:///movies.sqlite\n",
      "Done.\n"
     ]
    },
    {
     "data": {
      "text/html": [
       "<table>\n",
       "    <tr>\n",
       "        <th>Ticket_ID</th>\n",
       "    </tr>\n",
       "    <tr>\n",
       "        <td>66512f283e811261f155533a5100b0ec</td>\n",
       "    </tr>\n",
       "</table>"
      ],
      "text/plain": [
       "[('66512f283e811261f155533a5100b0ec',)]"
      ]
     },
     "execution_count": 67,
     "metadata": {},
     "output_type": "execute_result"
    }
   ],
   "source": [
    "%%sql\n",
    "SELECT Ticket_ID\n",
    "FROM Ticket\n",
    "WHERE rowid = last_insert_rowid()"
   ]
  },
  {
   "cell_type": "markdown",
   "id": "3455eaf8",
   "metadata": {},
   "source": [
    "+ Try to insert two movie theaters with the same name (this\n",
    "  should fail)."
   ]
  },
  {
   "cell_type": "code",
   "execution_count": 68,
   "id": "18def3a7",
   "metadata": {},
   "outputs": [
    {
     "name": "stdout",
     "output_type": "stream",
     "text": [
      " * sqlite:///movies.sqlite\n",
      "(sqlite3.IntegrityError) UNIQUE constraint failed: Theater.Name\n",
      "[SQL: INSERT INTO Theater(Name, Capacity)\n",
      "VALUES ('Kino der Toten', '2000')]\n",
      "(Background on this error at: https://sqlalche.me/e/14/gkpj)\n"
     ]
    }
   ],
   "source": [
    "%%sql\n",
    "INSERT INTO Theater(Name, Capacity)\n",
    "VALUES ('Kino der Toten', '2000')"
   ]
  },
  {
   "cell_type": "markdown",
   "id": "114abab7",
   "metadata": {},
   "source": [
    "+ Try to insert a performance where the theater doesn’t\n",
    "  exist in the database (this should fail)."
   ]
  },
  {
   "cell_type": "code",
   "execution_count": 69,
   "id": "58d28e66",
   "metadata": {},
   "outputs": [
    {
     "name": "stdout",
     "output_type": "stream",
     "text": [
      " * sqlite:///movies.sqlite\n",
      "(sqlite3.IntegrityError) FOREIGN KEY constraint failed\n",
      "[SQL: INSERT INTO Screening(IMDB_key, Screening_ID, Theater_name, Start_time, Seats)\n",
      "VALUES ('blabla', '2', 'Le Gamaar', '20:00:00', '400')]\n",
      "(Background on this error at: https://sqlalche.me/e/14/gkpj)\n"
     ]
    }
   ],
   "source": [
    "%%sql\n",
    "INSERT INTO Screening(IMDB_key, Screening_ID, Theater_name, Start_time, Seats)\n",
    "VALUES ('blabla', '2', 'Le Gamaar', '20:00:00', '400')"
   ]
  },
  {
   "cell_type": "markdown",
   "id": "ac2823c2",
   "metadata": {},
   "source": [
    "+ Create a ticket where either the user or the performance\n",
    "  doesn’t exist (this should fail)."
   ]
  },
  {
   "cell_type": "code",
   "execution_count": 71,
   "id": "74400b28",
   "metadata": {},
   "outputs": [
    {
     "name": "stdout",
     "output_type": "stream",
     "text": [
      " * sqlite:///movies.sqlite\n",
      "(sqlite3.IntegrityError) FOREIGN KEY constraint failed\n",
      "[SQL: INSERT INTO Ticket(User_name, Screening_ID)\n",
      "--VALUES ('nonExistentUser', '1')\n",
      "VALUES ('anotherUser', '2')]\n",
      "(Background on this error at: https://sqlalche.me/e/14/gkpj)\n"
     ]
    }
   ],
   "source": [
    "%%sql\n",
    "INSERT INTO Ticket(User_name, Screening_ID)\n",
    "--VALUES ('nonExistentUser', '1')\n",
    "VALUES ('anotherUser', '2')"
   ]
  }
 ],
 "metadata": {
  "kernelspec": {
   "display_name": "Python 3",
   "language": "python",
   "name": "python3"
  },
  "language_info": {
   "codemirror_mode": {
    "name": "ipython",
    "version": 3
   },
   "file_extension": ".py",
   "mimetype": "text/x-python",
   "name": "python",
   "nbconvert_exporter": "python",
   "pygments_lexer": "ipython3",
   "version": "3.8.10"
  },
  "vscode": {
   "interpreter": {
    "hash": "31f2aee4e71d21fbe5cf8b01ff0e069b9275f58929596ceb00d14d90e3e16cd6"
   }
  }
 },
 "nbformat": 4,
 "nbformat_minor": 5
}
